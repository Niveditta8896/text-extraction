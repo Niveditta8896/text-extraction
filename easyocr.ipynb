{
 "cells": [
  {
   "cell_type": "code",
   "execution_count": null,
   "id": "9648c2b9-b7b7-4dee-8615-44ad5b673fce",
   "metadata": {},
   "outputs": [],
   "source": [
    "!python --version"
   ]
  },
  {
   "cell_type": "code",
   "execution_count": 3,
   "id": "5e565e7f-9b5f-49e2-9b9b-16dc1adfa3a3",
   "metadata": {},
   "outputs": [],
   "source": [
    "#import easyocr\n",
    "import time\n",
    "import tracemalloc #used to measure memory usage of your Python program."
   ]
  },
  {
   "cell_type": "code",
   "execution_count": 12,
   "id": "58478c8b-ed89-4c09-b812-86031a229c91",
   "metadata": {},
   "outputs": [],
   "source": [
    "#IMAGE_PATH=\"C:\\hope\\Text Extraction Benchmarking\\german-text-wir-haben-geoeffnet-260nw-1722498427.webp\"\n",
    "GROUND_TRUTH = ['Wir', 'haben', 'geöffnet!', 'shutterstock.com','1722498427']  # Manually set based on actual image"
   ]
  },
  {
   "cell_type": "code",
   "execution_count": 13,
   "id": "87ee5c65-8d7a-4c9c-ba02-e3761d7a9a16",
   "metadata": {},
   "outputs": [],
   "source": [
    "#Start measuring time and memory\n",
    "start_time = time.time()\n",
    "tracemalloc.start() #starts tracking memory allocation."
   ]
  },
  {
   "cell_type": "code",
   "execution_count": 14,
   "id": "7335dab6-1da1-4fca-b985-c533524bd489",
   "metadata": {},
   "outputs": [
    {
     "name": "stderr",
     "output_type": "stream",
     "text": [
      "Neither CUDA nor MPS are available - defaulting to CPU. Note: This module is much faster with a GPU.\n"
     ]
    }
   ],
   "source": [
    "IMAGE_PATH = \"C:\\hope\\Text Extraction Benchmarking\\german-text-wir-haben-geoeffnet-260nw-1722498427.webp\"\n",
    "reader = easyocr.Reader(['de'])  # Change to the correct language\n",
    "results = reader.readtext(IMAGE_PATH)\n",
    "\n",
    "predicted_text = [text for (_, text, _) in results]"
   ]
  },
  {
   "cell_type": "code",
   "execution_count": 20,
   "id": "f73fc60a-fad3-437e-a7fb-7340fd4c9a81",
   "metadata": {},
   "outputs": [
    {
     "data": {
      "text/plain": [
       "[([[np.int32(155), np.int32(93)],\n",
       "   [np.int32(307), np.int32(93)],\n",
       "   [np.int32(307), np.int32(131)],\n",
       "   [np.int32(155), np.int32(131)]],\n",
       "  'WWir haben',\n",
       "  np.float64(0.8460219716838521)),\n",
       " ([[np.int32(113), np.int32(128)],\n",
       "   [np.int32(352), np.int32(128)],\n",
       "   [np.int32(352), np.int32(215)],\n",
       "   [np.int32(113), np.int32(215)]],\n",
       "  'geöffnet!',\n",
       "  np.float64(0.697508796526414)),\n",
       " ([[np.int32(155), np.int32(265)],\n",
       "   [np.int32(243), np.int32(265)],\n",
       "   [np.int32(243), np.int32(279)],\n",
       "   [np.int32(155), np.int32(279)]],\n",
       "  'shutterstockcom',\n",
       "  np.float64(0.9998607127449658)),\n",
       " ([[np.int32(247), np.int32(265)],\n",
       "   [np.int32(311), np.int32(265)],\n",
       "   [np.int32(311), np.int32(277)],\n",
       "   [np.int32(247), np.int32(277)]],\n",
       "  '1722498427',\n",
       "  np.float64(0.7676228763676652))]"
      ]
     },
     "execution_count": 20,
     "metadata": {},
     "output_type": "execute_result"
    }
   ],
   "source": [
    "# results  in the form of tuples which returns bounding box dimension, predicted text and confidence interval(how confident the model is about its prediction.) of the model \n",
    "# for predicted text we jus need text from the results "
   ]
  },
  {
   "cell_type": "code",
   "execution_count": 19,
   "id": "5203102c-76ab-412f-bfb4-a92127be8482",
   "metadata": {},
   "outputs": [
    {
     "data": {
      "text/plain": [
       "['WWir haben', 'geöffnet!', 'shutterstockcom', '1722498427']"
      ]
     },
     "execution_count": 19,
     "metadata": {},
     "output_type": "execute_result"
    }
   ],
   "source": [
    "predicted_text"
   ]
  },
  {
   "cell_type": "code",
   "execution_count": 15,
   "id": "46c3b80b-363c-45e5-ac66-28a6a85e6828",
   "metadata": {},
   "outputs": [],
   "source": [
    "# Stop measuring time and memory\n",
    "end_time = time.time()\n",
    "current, peak = tracemalloc.get_traced_memory()\n",
    "tracemalloc.stop()"
   ]
  },
  {
   "cell_type": "code",
   "execution_count": 16,
   "id": "667cb287-f1bb-4d85-ad3a-602d64417b48",
   "metadata": {},
   "outputs": [],
   "source": [
    "# Accuracy calculation\n",
    "correct_words = sum(1 for word in predicted_text if word in GROUND_TRUTH)\n",
    "total_words = len(GROUND_TRUTH)\n",
    "accuracy = (correct_words / total_words) * 100 if total_words else 0"
   ]
  },
  {
   "cell_type": "code",
   "execution_count": 17,
   "id": "4354f889-8336-4282-8fcf-c7512c4da49a",
   "metadata": {},
   "outputs": [],
   "source": [
    "# Print evaluation results\n",
    "output = {\n",
    "    \"Tool\": \"EasyOCR\",\n",
    "    \"Language(s)\": \"English, German\",\n",
    "    \"Free or Paid\": \"Free (Open-source)\",\n",
    "    \"Text Extracted\": ' '.join(predicted_text), # converts the list to a single string\n",
    "    \"Correct Words\": f\"{correct_words} / {total_words}\",\n",
    "    \"Accuracy\": f\"{accuracy:.2f}%\",\n",
    "    \"Time Taken\": f\"{end_time - start_time:.2f} seconds\",\n",
    "    \"Memory Used\": f\"{peak / 10**6:.2f} MB\"\n",
    "}\n"
   ]
  },
  {
   "cell_type": "code",
   "execution_count": 18,
   "id": "ba1bd6cf-7a0d-4562-96bd-657c20856098",
   "metadata": {},
   "outputs": [
    {
     "data": {
      "text/plain": [
       "{'Tool': 'EasyOCR',\n",
       " 'Language(s)': 'English, German',\n",
       " 'Free or Paid': 'Free (Open-source)',\n",
       " 'Text Extracted': 'WWir haben geöffnet! shutterstockcom 1722498427',\n",
       " 'Correct Words': '2 / 5',\n",
       " 'Accuracy': '40.00%',\n",
       " 'Time Taken': '9.56 seconds',\n",
       " 'Memory Used': '6.56 MB'}"
      ]
     },
     "execution_count": 18,
     "metadata": {},
     "output_type": "execute_result"
    }
   ],
   "source": [
    "output"
   ]
  },
  {
   "cell_type": "code",
   "execution_count": null,
   "id": "47f5757b-738e-4806-8eb6-f5dd68293a57",
   "metadata": {},
   "outputs": [],
   "source": []
  }
 ],
 "metadata": {
  "kernelspec": {
   "display_name": "Python 3 (ipykernel)",
   "language": "python",
   "name": "python3"
  },
  "language_info": {
   "codemirror_mode": {
    "name": "ipython",
    "version": 3
   },
   "file_extension": ".py",
   "mimetype": "text/x-python",
   "name": "python",
   "nbconvert_exporter": "python",
   "pygments_lexer": "ipython3",
   "version": "3.9.23"
  }
 },
 "nbformat": 4,
 "nbformat_minor": 5
}
