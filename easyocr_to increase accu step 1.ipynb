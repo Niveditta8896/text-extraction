{
 "cells": [
  {
   "cell_type": "code",
   "execution_count": 1,
   "id": "9648c2b9-b7b7-4dee-8615-44ad5b673fce",
   "metadata": {},
   "outputs": [
    {
     "name": "stdout",
     "output_type": "stream",
     "text": [
      "Python 3.9.23\n"
     ]
    }
   ],
   "source": [
    "!python --version"
   ]
  },
  {
   "cell_type": "code",
   "execution_count": 2,
   "id": "5e565e7f-9b5f-49e2-9b9b-16dc1adfa3a3",
   "metadata": {},
   "outputs": [],
   "source": [
    "import easyocr\n",
    "import time\n",
    "import tracemalloc #used to measure memory usage of your Python program.\n",
    "import cv2"
   ]
  },
  {
   "cell_type": "code",
   "execution_count": 21,
   "id": "58478c8b-ed89-4c09-b812-86031a229c91",
   "metadata": {},
   "outputs": [
    {
     "data": {
      "text/plain": [
       "True"
      ]
     },
     "execution_count": 21,
     "metadata": {},
     "output_type": "execute_result"
    }
   ],
   "source": [
    "IMAGE_PATH = \"C:\\hope\\Text Extraction Benchmarking\\spanish-custom-text-watch-out-aluminum-sign-12-x-18.webp\"\n",
    "img = cv2.imread(IMAGE_PATH)\n",
    "resized = cv2.resize(img, None, fx=2, fy=2, interpolation=cv2.INTER_CUBIC)\n",
    "gray = cv2.cvtColor(resized, cv2.COLOR_BGR2GRAY)\n",
    "GROUND_TRUTH = ['CUIDADO', 'SU', 'MENSAJE', 'AQUI']  # Manually set based on actual image\n",
    "_, thresh = cv2.threshold(gray, 150, 255, cv2.THRESH_BINARY | cv2.THRESH_OTSU)\n",
    "\n",
    "# Save preprocessed image\n",
    "cv2.imwrite(\"resized_preprocessed.png\", thresh)"
   ]
  },
  {
   "cell_type": "code",
   "execution_count": 22,
   "id": "87ee5c65-8d7a-4c9c-ba02-e3761d7a9a16",
   "metadata": {},
   "outputs": [],
   "source": [
    "#Start measuring time and memory\n",
    "start_time = time.time()\n",
    "tracemalloc.start() #starts tracking memory allocation."
   ]
  },
  {
   "cell_type": "code",
   "execution_count": 23,
   "id": "7335dab6-1da1-4fca-b985-c533524bd489",
   "metadata": {},
   "outputs": [
    {
     "name": "stderr",
     "output_type": "stream",
     "text": [
      "Neither CUDA nor MPS are available - defaulting to CPU. Note: This module is much faster with a GPU.\n"
     ]
    }
   ],
   "source": [
    "reader = easyocr.Reader(['de'])  # Change to the correct language\n",
    "results = reader.readtext(\"resized_preprocessed.png\")\n",
    "\n",
    "predicted_text = [text for (_, text, _) in results]\n",
    "# Flatten the list: split phrases into words\n",
    "predicted_text = [word for phrase in predicted_text for word in phrase.split()]\n"
   ]
  },
  {
   "cell_type": "code",
   "execution_count": 24,
   "id": "f73fc60a-fad3-437e-a7fb-7340fd4c9a81",
   "metadata": {},
   "outputs": [],
   "source": [
    "# results  in the form of tuples which returns bounding box dimension, predicted text and confidence interval(how confident the model is about its prediction.) of the model \n",
    "# for predicted text we jus need text from the results "
   ]
  },
  {
   "cell_type": "code",
   "execution_count": 25,
   "id": "5203102c-76ab-412f-bfb4-a92127be8482",
   "metadata": {},
   "outputs": [
    {
     "data": {
      "text/plain": [
       "['CUIDADO', 'SU', 'MENSAJE', 'AQUI']"
      ]
     },
     "execution_count": 25,
     "metadata": {},
     "output_type": "execute_result"
    }
   ],
   "source": [
    "predicted_text"
   ]
  },
  {
   "cell_type": "code",
   "execution_count": 26,
   "id": "46c3b80b-363c-45e5-ac66-28a6a85e6828",
   "metadata": {},
   "outputs": [],
   "source": [
    "# Stop measuring time and memory\n",
    "end_time = time.time()\n",
    "current, peak = tracemalloc.get_traced_memory() #peak is the highest memory used at any point since tracemalloc.start() we need peak\n",
    "tracemalloc.stop()"
   ]
  },
  {
   "cell_type": "code",
   "execution_count": 27,
   "id": "667cb287-f1bb-4d85-ad3a-602d64417b48",
   "metadata": {},
   "outputs": [],
   "source": [
    "# Accuracy calculation\n",
    "correct_words = sum(1 for word in predicted_text if word in GROUND_TRUTH)\n",
    "total_words = len(GROUND_TRUTH)\n",
    "accuracy = (correct_words / total_words) * 100 if total_words else 0"
   ]
  },
  {
   "cell_type": "code",
   "execution_count": 28,
   "id": "4354f889-8336-4282-8fcf-c7512c4da49a",
   "metadata": {},
   "outputs": [],
   "source": [
    "# Print evaluation results\n",
    "output = {\n",
    "    \"Tool\": \"EasyOCR\",\n",
    "    \"Language(s)\": \"English, German\",\n",
    "    \"Free or Paid\": \"Free (Open-source)\",\n",
    "    \"Text Extracted\": ' '.join(predicted_text), # converts the list to a single string\n",
    "    \"Correct Words\": f\"{correct_words} / {total_words}\",\n",
    "    \"Accuracy\": f\"{accuracy:.2f}%\",\n",
    "    \"Time Taken\": f\"{end_time - start_time:.2f} seconds\",\n",
    "    \"Memory Used\": f\"{peak / 10**6:.2f} MB\"\n",
    "}\n"
   ]
  },
  {
   "cell_type": "code",
   "execution_count": 29,
   "id": "ba1bd6cf-7a0d-4562-96bd-657c20856098",
   "metadata": {},
   "outputs": [
    {
     "data": {
      "text/plain": [
       "{'Tool': 'EasyOCR',\n",
       " 'Language(s)': 'English, German',\n",
       " 'Free or Paid': 'Free (Open-source)',\n",
       " 'Text Extracted': 'CUIDADO SU MENSAJE AQUI',\n",
       " 'Correct Words': '4 / 4',\n",
       " 'Accuracy': '100.00%',\n",
       " 'Time Taken': '17.28 seconds',\n",
       " 'Memory Used': '60.04 MB'}"
      ]
     },
     "execution_count": 29,
     "metadata": {},
     "output_type": "execute_result"
    }
   ],
   "source": [
    "output"
   ]
  },
  {
   "cell_type": "code",
   "execution_count": null,
   "id": "47f5757b-738e-4806-8eb6-f5dd68293a57",
   "metadata": {},
   "outputs": [],
   "source": []
  }
 ],
 "metadata": {
  "kernelspec": {
   "display_name": "Python 3 (ipykernel)",
   "language": "python",
   "name": "python3"
  },
  "language_info": {
   "codemirror_mode": {
    "name": "ipython",
    "version": 3
   },
   "file_extension": ".py",
   "mimetype": "text/x-python",
   "name": "python",
   "nbconvert_exporter": "python",
   "pygments_lexer": "ipython3",
   "version": "3.9.23"
  }
 },
 "nbformat": 4,
 "nbformat_minor": 5
}
