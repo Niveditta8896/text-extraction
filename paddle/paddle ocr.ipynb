{
 "cells": [
  {
   "cell_type": "code",
   "execution_count": 1,
   "id": "e753e7fd",
   "metadata": {},
   "outputs": [
    {
     "name": "stderr",
     "output_type": "stream",
     "text": [
      "C:\\Users\\nimmy\\anaconda3\\envs\\py39_env\\lib\\site-packages\\tqdm\\auto.py:21: TqdmWarning: IProgress not found. Please update jupyter and ipywidgets. See https://ipywidgets.readthedocs.io/en/stable/user_install.html\n",
      "  from .autonotebook import tqdm as notebook_tqdm\n"
     ]
    }
   ],
   "source": [
    "from paddleocr import PaddleOCR\n",
    "import cv2\n",
    "import time\n",
    "import tracemalloc\n",
    "\n",
    "# --- Ground Truth ---\n",
    "GROUND_TRUTH = [\n",
    "    \"computer\", \"manufacturers\", \"supplying\", \"them,\", \"these\", \"computers\", \"became\", \"far\", \"more\", \"affordable\", \"than\", \"the\", \"Mac.\",\n",
    "    \"It\", \"was\", \"as\", \"if\", \"Steve\", \"Jobs\", \"and\", \"his\", \"company\", \"had\", \"gone\", \"into\", \"a\", \"time\", \"capsule\", \"when\", \"they\", \"started\", \"Next.\",\n",
    "    \"They\", \"worked\", \"hard\", \"for\", \"years,\", \"competing\", \"against\", \"what\", \"they\", \"thought\", \"was\", \"the\", \"competition,\", \"but\", \"by\", \"the\", \"time\", \"they\", \"emerged,\", \"the\", \"competition\", \"turned\", \"out\", \"to\", \"be\", \"something\", \"completely\", \"different\", \"and\", \"much\", \"more\", \"powerful.\",\n",
    "    \"Although\", \"they\", \"were\", \"oblivious\", \"to\", \"it,\", \"Next\", \"found\", \"itself\", \"in\", \"the\", \"midst\", \"of\", \"a\", \"strategic\", \"inflection\", \"point.\",\n",
    "    \"The\", \"Next\", \"machine\", \"never\", \"took\", \"off.\", \"In\", \"fact,\", \"despite\", \"ongoing\", \"infusions\", \"of\", \"investors’\", \"cash,\", \"Next\", \"was\", \"hemorrhaging\", \"money.\",\n",
    "    \"They\", \"were\", \"trying\", \"to\", \"maintain\", \"an\", \"expensive\", \"computer\", \"development\", \"operation,\", \"in\", \"addition\", \"to\", \"a\", \"state-of-the-art\", \"software\", \"development\", \"operation,\", \"plus\", \"a\", \"fully\", \"automated\", \"factory\", \"built\", \"to\", \"produce\", \"a\", \"large\", \"volume\", \"of\", \"Next\", \"computers—a\", \"large\", \"volume\", \"that\", \"never\", \"materialized.\",\n",
    "    \"By\", \"1991,\", \"about\", \"six\", \"years\", \"after\", \"its\", \"founding,\", \"Next\", \"was\", \"in\", \"financial\", \"difficulties.\",\n",
    "    \"Some\", \"managers\", \"inside\", \"the\", \"company\", \"had\", \"advocated\", \"throwing\", \"in\", \"the\", \"towel\", \"in\", \"hardware\", \"and\", \"porting\", \"their\", \"crown\", \"jewel\", \"to\", \"mass-produced\", \"PCs.\",\n",
    "    \"Jobs\", \"resisted\", \"this\", \"for\", \"a\", \"long\", \"time.\", \"He\", \"didn’t\", \"like\", \"PCs.\", \"He\", \"thought\", \"they\", \"were\", \"inelegant\", \"and\", \"poorly\", \"engineered,\", \"and\", \"the\", \"many\", \"players\", \"in\", \"the\", \"industry\", \"made\", \"any\", \"kind\", \"of\", \"uniformity\", \"hard\", \"to\", \"achieve.\",\n",
    "    \"In\", \"short,\", \"Jobs\", \"thought\", \"PCs\", \"were\", \"a\", \"mess.\", \"The\", \"thing\", \"is,\", \"he\", \"was\", \"right.\",\n",
    "    \"But\", \"what\", \"Jobs\", \"missed\", \"at\", \"the\", \"time\", \"was\", \"that\", \"the\", \"very\", \"messiness\", \"of\", \"the\", \"PC\", \"industry\", \"that\", \"he\", \"despised\", \"was\", \"the\", \"result\", \"of\", \"its\", \"power:\", \"many\", \"companies\", \"competing\", \"to\", \"offer\", \"better\", \"value\", \"to\", \"ever\", \"larger\", \"numbers\", \"of\", \"customers.\",\n",
    "    \"Some\", \"of\", \"his\", \"managers\", \"got\", \"frustrated\", \"and\", \"quit,\", \"yet\", \"their\", \"idea\", \"continued\", \"to\", \"ferment.\",\n",
    "    \"As\", \"Next’s\", \"funds\", \"grew\", \"lower\", \"and\", \"lower,\", \"Jobs\", \"finally\", \"accepted\", \"the\", \"inevitability\", \"of\", \"the\", \"inelegant,\", \"messy\", \"PC\", \"industry\", \"as\", \"his\", \"environment.\",\n",
    "    \"He\", \"threw\", \"his\", \"weight\", \"behind\", \"the\", \"proposal\", \"he\", \"had\", \"fought.\", \"He\", \"shut\", \"down\", \"all\", \"hardware\", \"development\", \"and\", \"the\", \"spanking\", \"new\", \"automated\", \"factory,\", \"and\", \"laid\", \"off\", \"half\", \"of\", \"his\", \"staff.\"\n",
    "] \n",
    "\n",
    "# --- Preprocess ---\n",
    "image_path = \"C:\\hope\\Text Extraction Benchmarking\\WhatsApp Image 2025-07-05 at 12.07.52_e6cd4776.jpg\"  # Your uploaded image\n",
    "img = cv2.imread(image_path)\n",
    "gray = cv2.cvtColor(img, cv2.COLOR_BGR2GRAY)\n",
    "sharpened = cv2.GaussianBlur(gray, (0, 0), 3)\n",
    "sharpened = cv2.addWeighted(gray, 1.5, sharpened, -0.5, 0)\n",
    "\n",
    "thresh = cv2.adaptiveThreshold(sharpened, 255, cv2.ADAPTIVE_THRESH_GAUSSIAN_C,\n",
    "                               cv2.THRESH_BINARY, 11, 2)\n",
    "cv2.imwrite(\"preprocessed_book.jpg\", thresh)\n",
    "\n",
    "# --- Track time and memory ---\n",
    "start_time = time.time()\n",
    "tracemalloc.start()"
   ]
  },
  {
   "cell_type": "code",
   "execution_count": 5,
   "id": "90877e18",
   "metadata": {
    "scrolled": true
   },
   "outputs": [
    {
     "name": "stderr",
     "output_type": "stream",
     "text": [
      "C:\\Users\\nimmy\\AppData\\Local\\Temp\\ipykernel_12812\\1870793708.py:1: DeprecationWarning: The parameter `use_angle_cls` has been deprecated and will be removed in the future. Please use `use_textline_orientation` instead.\n",
      "  ocr = PaddleOCR(use_angle_cls=True, lang='en')\n",
      "\u001b[32mCreating model: ('PP-LCNet_x1_0_doc_ori', None)\u001b[0m\n",
      "\u001b[32mUsing official model (PP-LCNet_x1_0_doc_ori), the model files will be automatically downloaded and saved in C:\\Users\\nimmy\\.paddlex\\official_models.\u001b[0m\n",
      "Fetching 6 files: 100%|█████████████████████████████████████████████████████████████████| 6/6 [00:00<00:00, 423.73it/s]\n",
      "\u001b[32mCreating model: ('UVDoc', None)\u001b[0m\n",
      "\u001b[33mThe model(UVDoc) is not supported to run in MKLDNN mode! Using `paddle` instead!\u001b[0m\n",
      "\u001b[32mUsing official model (UVDoc), the model files will be automatically downloaded and saved in C:\\Users\\nimmy\\.paddlex\\official_models.\u001b[0m\n",
      "Fetching 6 files: 100%|█████████████████████████████████████████████████████████████████| 6/6 [00:00<00:00, 320.97it/s]\n",
      "\u001b[32mCreating model: ('PP-LCNet_x1_0_textline_ori', None)\u001b[0m\n",
      "\u001b[32mUsing official model (PP-LCNet_x1_0_textline_ori), the model files will be automatically downloaded and saved in C:\\Users\\nimmy\\.paddlex\\official_models.\u001b[0m\n",
      "Fetching 6 files: 100%|█████████████████████████████████████████████████████████████████| 6/6 [00:00<00:00, 289.05it/s]\n",
      "\u001b[32mCreating model: ('PP-OCRv5_server_det', None)\u001b[0m\n",
      "\u001b[32mUsing official model (PP-OCRv5_server_det), the model files will be automatically downloaded and saved in C:\\Users\\nimmy\\.paddlex\\official_models.\u001b[0m\n",
      "Fetching 6 files: 100%|█████████████████████████████████████████████████████████████████| 6/6 [00:00<00:00, 301.69it/s]\n",
      "\u001b[32mCreating model: ('PP-OCRv5_server_rec', None)\u001b[0m\n",
      "\u001b[32mUsing official model (PP-OCRv5_server_rec), the model files will be automatically downloaded and saved in C:\\Users\\nimmy\\.paddlex\\official_models.\u001b[0m\n",
      "Fetching 6 files: 100%|█████████████████████████████████████████████████████████████████| 6/6 [00:00<00:00, 717.08it/s]\n",
      "C:\\Users\\nimmy\\AppData\\Local\\Temp\\ipykernel_12812\\1870793708.py:2: DeprecationWarning: Please use `predict` instead.\n",
      "  results = ocr.ocr(\"preprocessed_book.jpg\", cls=True)\n"
     ]
    },
    {
     "ename": "TypeError",
     "evalue": "predict() got an unexpected keyword argument 'cls'",
     "output_type": "error",
     "traceback": [
      "\u001b[1;31m---------------------------------------------------------------------------\u001b[0m",
      "\u001b[1;31mTypeError\u001b[0m                                 Traceback (most recent call last)",
      "Cell \u001b[1;32mIn[5], line 2\u001b[0m\n\u001b[0;32m      1\u001b[0m ocr \u001b[38;5;241m=\u001b[39m PaddleOCR(use_angle_cls\u001b[38;5;241m=\u001b[39m\u001b[38;5;28;01mTrue\u001b[39;00m, lang\u001b[38;5;241m=\u001b[39m\u001b[38;5;124m'\u001b[39m\u001b[38;5;124men\u001b[39m\u001b[38;5;124m'\u001b[39m)\n\u001b[1;32m----> 2\u001b[0m results \u001b[38;5;241m=\u001b[39m \u001b[43mocr\u001b[49m\u001b[38;5;241;43m.\u001b[39;49m\u001b[43mocr\u001b[49m\u001b[43m(\u001b[49m\u001b[38;5;124;43m\"\u001b[39;49m\u001b[38;5;124;43mpreprocessed_book.jpg\u001b[39;49m\u001b[38;5;124;43m\"\u001b[39;49m\u001b[43m,\u001b[49m\u001b[43m \u001b[49m\u001b[38;5;28;43mcls\u001b[39;49m\u001b[38;5;241;43m=\u001b[39;49m\u001b[38;5;28;43;01mTrue\u001b[39;49;00m\u001b[43m)\u001b[49m\n",
      "File \u001b[1;32m~\\anaconda3\\envs\\py39_env\\lib\\site-packages\\typing_extensions.py:2956\u001b[0m, in \u001b[0;36mdeprecated.__call__.<locals>.wrapper\u001b[1;34m(*args, **kwargs)\u001b[0m\n\u001b[0;32m   2953\u001b[0m \u001b[38;5;129m@functools\u001b[39m\u001b[38;5;241m.\u001b[39mwraps(arg)\n\u001b[0;32m   2954\u001b[0m \u001b[38;5;28;01mdef\u001b[39;00m\u001b[38;5;250m \u001b[39m\u001b[38;5;21mwrapper\u001b[39m(\u001b[38;5;241m*\u001b[39margs, \u001b[38;5;241m*\u001b[39m\u001b[38;5;241m*\u001b[39mkwargs):\n\u001b[0;32m   2955\u001b[0m     warnings\u001b[38;5;241m.\u001b[39mwarn(msg, category\u001b[38;5;241m=\u001b[39mcategory, stacklevel\u001b[38;5;241m=\u001b[39mstacklevel \u001b[38;5;241m+\u001b[39m \u001b[38;5;241m1\u001b[39m)\n\u001b[1;32m-> 2956\u001b[0m     \u001b[38;5;28;01mreturn\u001b[39;00m arg(\u001b[38;5;241m*\u001b[39margs, \u001b[38;5;241m*\u001b[39m\u001b[38;5;241m*\u001b[39mkwargs)\n",
      "File \u001b[1;32m~\\AppData\\Roaming\\Python\\Python39\\site-packages\\paddleocr\\_pipelines\\ocr.py:225\u001b[0m, in \u001b[0;36mPaddleOCR.ocr\u001b[1;34m(self, img, **kwargs)\u001b[0m\n\u001b[0;32m    223\u001b[0m \u001b[38;5;129m@deprecated\u001b[39m(\u001b[38;5;124m\"\u001b[39m\u001b[38;5;124mPlease use `predict` instead.\u001b[39m\u001b[38;5;124m\"\u001b[39m)\n\u001b[0;32m    224\u001b[0m \u001b[38;5;28;01mdef\u001b[39;00m\u001b[38;5;250m \u001b[39m\u001b[38;5;21mocr\u001b[39m(\u001b[38;5;28mself\u001b[39m, img, \u001b[38;5;241m*\u001b[39m\u001b[38;5;241m*\u001b[39mkwargs):\n\u001b[1;32m--> 225\u001b[0m     \u001b[38;5;28;01mreturn\u001b[39;00m \u001b[38;5;28mself\u001b[39m\u001b[38;5;241m.\u001b[39mpredict(img, \u001b[38;5;241m*\u001b[39m\u001b[38;5;241m*\u001b[39mkwargs)\n",
      "\u001b[1;31mTypeError\u001b[0m: predict() got an unexpected keyword argument 'cls'"
     ]
    }
   ],
   "source": [
    "ocr = PaddleOCR(use_angle_cls=True, lang='en')\n",
    "results = ocr.ocr(\"preprocessed_book.jpg\", cls=True)\n"
   ]
  },
  {
   "cell_type": "code",
   "execution_count": null,
   "id": "e6cdbfdc",
   "metadata": {},
   "outputs": [],
   "source": [
    "predicted_text = []\n",
    "for line in results[0]:\n",
    "    predicted_text.append(line[1][0])\n",
    "predicted_words = \" \".join(predicted_text).split()"
   ]
  },
  {
   "cell_type": "code",
   "execution_count": null,
   "id": "f656ce42",
   "metadata": {},
   "outputs": [],
   "source": [
    "correct_words = sum(1 for word in predicted_words if word in GROUND_TRUTH)\n",
    "total_words = len(GROUND_TRUTH)\n",
    "accuracy = (correct_words / total_words) * 100 if total_words else 0"
   ]
  },
  {
   "cell_type": "code",
   "execution_count": null,
   "id": "8b627303",
   "metadata": {},
   "outputs": [],
   "source": [
    "end_time = time.time()\n",
    "current, peak = tracemalloc.get_traced_memory()\n",
    "tracemalloc.stop()"
   ]
  },
  {
   "cell_type": "code",
   "execution_count": null,
   "id": "34699e27",
   "metadata": {},
   "outputs": [],
   "source": [
    "output = {\n",
    "    \"Tool\": \"PaddleOCR\",\n",
    "    \"Language(s)\": \"English\",\n",
    "    \"Free or Paid\": \"Free (Open-source)\",\n",
    "    \"Text Extracted\": \" \".join(predicted_text),\n",
    "    \"Correct Words\": f\"{correct_words}/{total_words}\",\n",
    "    \"Accuracy\": f\"{accuracy:.2f}%\",\n",
    "    \"Time Taken\": f\"{end_time - start_time:.2f} seconds\",\n",
    "    \"Memory Used\": f\"{peak / 10**6:.2f} MB\"\n",
    "}\n"
   ]
  },
  {
   "cell_type": "code",
   "execution_count": null,
   "id": "3c471579",
   "metadata": {},
   "outputs": [],
   "source": [
    "print(output)"
   ]
  },
  {
   "cell_type": "code",
   "execution_count": null,
   "id": "841d72a6",
   "metadata": {},
   "outputs": [],
   "source": []
  }
 ],
 "metadata": {
  "kernelspec": {
   "display_name": "Python 3 (ipykernel)",
   "language": "python",
   "name": "python3"
  },
  "language_info": {
   "codemirror_mode": {
    "name": "ipython",
    "version": 3
   },
   "file_extension": ".py",
   "mimetype": "text/x-python",
   "name": "python",
   "nbconvert_exporter": "python",
   "pygments_lexer": "ipython3",
   "version": "3.9.23"
  }
 },
 "nbformat": 4,
 "nbformat_minor": 5
}
